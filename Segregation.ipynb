{
 "cells": [
  {
   "attachments": {},
   "cell_type": "markdown",
   "metadata": {},
   "source": [
    "## Thomas Schelling's Segregation Model"
   ]
  },
  {
   "cell_type": "markdown",
   "metadata": {},
   "source": [
    "In 1971 Thomas Schelling published “Dynamic Models of Segregation,” which proposes a simple model of racial segregation. The Schelling model of the world is a grid; each cell represents a house. The houses are occupied by two kinds of “agents,” labeled red and blue, in roughly equal numbers. About 10% of the houses are empty.\n",
    "\n",
    "At any point in time, an agent might be happy or unhappy, depending on the other agents in the neighborhood. The neighborhood of each house is the set of eight adjacent cells. In one version of the model, agents are happy if they have at least two neighbors like themselves, and unhappy if they have one or zero.\n",
    "\n",
    "The simulation proceeds by choosing an agent at random and checking to see whether it is happy. If so, then nothing happens; if not, the agent chooses one of the unoccupied cells at random and moves.\n",
    "\n",
    "Schelling demonstrated his model with coins on a chessboard. We get the privilege to use a computer! :)\n",
    "\n",
    "The class below is one implementation of the basics of this simulation. (You are welcome to use mine, but you are also welcome to change it, or indeed make your own)."
   ]
  },
  {
   "cell_type": "code",
   "execution_count": null,
   "metadata": {},
   "outputs": [],
   "source": [
    "import numpy as np\n",
    "import matplotlib.pyplot as plt"
   ]
  },
  {
   "cell_type": "code",
   "execution_count": null,
   "metadata": {},
   "outputs": [],
   "source": [
    "class City():\n",
    "\n",
    "    def __init__(self, size, proportions, threshold):\n",
    "        self.size = size        \n",
    "        self.pop = np.random.choice([-1,0,1],p=proportions,size=(size,size))\n",
    "        self.threshold = threshold\n",
    "        \n",
    "    def show(self):\n",
    "        plt.imshow(self.pop, interpolation=\"nearest\", cmap=\"bwr\")\n",
    "        plt.xticks([])\n",
    "        plt.yticks([])\n",
    "        plt.show()        \n",
    "        \n",
    "    def step(self):\n",
    "        # pick random house\n",
    "        i,j = self.randomHouse()\n",
    "        # find a place to move to if it's unhappy\n",
    "        if self.numberKin(i,j) < self.threshold:\n",
    "            self.move(i,j)        \n",
    "        \n",
    "    def numberKin(self, i, j):\n",
    "        return np.count_nonzero(self.pop[i-1:i+2,j-1:j+2]==self.pop[i,j])-1\n",
    "\n",
    "    def move(self, i, j):\n",
    "        newi,newj = self.randomVacant()\n",
    "        self.pop[newi][newj] = self.pop[i][j]\n",
    "        self.pop[i][j] = 0\n",
    "        \n",
    "    def randomHouse(self):\n",
    "        found = False\n",
    "        while not found:\n",
    "            i = np.random.randint(1,self.size-1)\n",
    "            j = np.random.randint(1,self.size-1)\n",
    "            if self.pop[i][j] != 0:\n",
    "                found = True\n",
    "        return i, j\n",
    "\n",
    "    def randomVacant(self):\n",
    "        np.where(self.pop==0)\n",
    "        found = False\n",
    "        while not found:\n",
    "            i = np.random.randint(1,self.size-1)\n",
    "            j = np.random.randint(1,self.size-1)\n",
    "            if self.pop[i][j] == 0:\n",
    "                found = True\n",
    "        return i, j\n",
    "    \n",
    "    def numberNeighbors(self, i, j):\n",
    "        return np.count_nonzero(self.pop[i-1:i+2,j-1:j+2]!=0)-1    "
   ]
  },
  {
   "cell_type": "code",
   "execution_count": null,
   "metadata": {},
   "outputs": [],
   "source": [
    "c = City(50,[0.4,0.2,0.4],3)\n",
    "moves = 100000\n",
    "c.show()\n",
    "si = []\n",
    "for i in range(moves):\n",
    "    c.step()\n",
    "c.show()"
   ]
  },
  {
   "cell_type": "markdown",
   "metadata": {},
   "source": [
    "1. What happens when the agents become more tolerant? Show only the final outcome for each different threshold of happiness. Interpret your results (as in, explain what you get for 0, 1, 2, ... and why you think you see the results that you see). "
   ]
  },
  {
   "cell_type": "code",
   "execution_count": null,
   "metadata": {},
   "outputs": [],
   "source": [
    "def run(threshold):\n",
    "    c = City(50,[0.45,0.1,0.45],threshold)\n",
    "    moves = 100000\n",
    "    si = []\n",
    "    for i in range(moves):\n",
    "        c.step()\n",
    "    c.show()\n",
    "for tol in range(9):\n",
    "    print(tol)\n",
    "    run(tol)"
   ]
  },
  {
   "cell_type": "markdown",
   "metadata": {},
   "source": [
    "2. Define a statistic that measures the degree of segregation. Explain your measure. Dedicate some thought to this part - think about the subleties of what you are trying to calculate. Add this as a method to the class. Do one run, just as before, but this time keep track of the segregation index (instead of having to look at the city). Calculating the segregation index can be costly (sort of like doing a census over the population), so make sure you calculate it only every some number of moves (say every 5000 moves, we can imagine this is once a year). Plot this statistic over time. Plot it for one threshold of your choice. (Optional: Create a plot that has the segregation index for all 9 possible tolerance thresholds)."
   ]
  },
  {
   "cell_type": "code",
   "execution_count": null,
   "metadata": {},
   "outputs": [],
   "source": [
    "def run(threshold):\n",
    "    c = City(50,[0.45,0.1,0.45],threshold)\n",
    "    moves = 100000\n",
    "    si = []\n",
    "    for i in range(moves):\n",
    "        c.step()\n",
    "        if i%5000==0:\n",
    "            si.append(c.segIndex())\n",
    "    return si\n",
    "si = np.zeros((9,20))\n",
    "for tol in range(9):\n",
    "    si[tol]=run(tol)\n",
    "plt.plot(si.T)\n",
    "plt.xlabel(\"Year\")\n",
    "plt.ylabel(\"Segregation Index\")\n",
    "plt.title(\"Segregation over time\")\n",
    "plt.legend([\"0\",\"1\",\"2\",\"3\",\"4\",\"5\",\"6\",\"7\",\"8\"])\n",
    "plt.show()"
   ]
  },
  {
   "cell_type": "markdown",
   "metadata": {},
   "source": [
    "3. Let's revisit the first question but now using this more succint measurement. How does the tolerance or threshold of happiness affect the final segregation index? To answer this question, plot the final segregation threshold as a function of threshold. Does your segregation index capture well the results that you observed from your experiment in question 1? If not, fix your segregation index so that it does. Interpret your results."
   ]
  },
  {
   "cell_type": "code",
   "execution_count": null,
   "metadata": {},
   "outputs": [],
   "source": [
    "def run(threshold):\n",
    "    c = City(50,[0.45,0.1,0.45],threshold)\n",
    "    moves = 100000\n",
    "    si = []\n",
    "    for i in range(moves):\n",
    "        c.step()\n",
    "    return c.segIndex()\n",
    "\n",
    "si = np.zeros(9)\n",
    "for tol in range(9):\n",
    "    si[tol]=run(tol)\n",
    "plt.plot(si.T,'o-')\n",
    "plt.xlabel(\"Tolerance\")\n",
    "plt.ylabel(\"Final Segregation Index\")\n",
    "plt.show()"
   ]
  },
  {
   "cell_type": "markdown",
   "metadata": {},
   "source": [
    "4. Now that your segregation index works well, let's ask more questions about this model to understand it better. Let's discuss the role of vacant homes: Hoes does vacancy affect the final segregation threshold of the city? To answer this question, pick a threshold and keep it fixed, and instead vary the proportion of vacancies systematically from 0 to 1. Make sure you make a hypothesis and even write it down, before you run your experiment. Does more vacancy make segregation more or less likely? Did what you think would happen happened? Explain whether your prediction matched the results."
   ]
  },
  {
   "cell_type": "code",
   "execution_count": null,
   "metadata": {},
   "outputs": [],
   "source": [
    "def run(vacancy):\n",
    "    threshold = 3\n",
    "    occupied = (1-vacancy)/2\n",
    "    c = City(50,[occupied,vacancy,occupied],threshold)\n",
    "    moves = 100000\n",
    "    si = []\n",
    "    for i in range(moves):\n",
    "        c.step()\n",
    "    return c.segIndex()\n",
    "\n",
    "vaclist = np.linspace(0.05,0.85,9)\n",
    "si = np.zeros(9)\n",
    "for i in range(9):\n",
    "    si[i]=run(vaclist[i])\n",
    "plt.plot(vaclist,si.T,'o-')\n",
    "plt.xlabel(\"Vacancy %\")\n",
    "plt.ylabel(\"Final Segregation Index\")\n",
    "plt.title(\"Tolerance=2\")\n",
    "plt.show()"
   ]
  },
  {
   "cell_type": "markdown",
   "metadata": {},
   "source": [
    "5. Open ended. Select one way to extend/modify the model. Find a question to ask about the model (like the questions before this one). Answer your question with an experiment and visualize it with a figure. Interpret and discuss your results. \n",
    "\n",
    "Note: There are lots of really cool ideas and questions that you can explore here. It's Okay if you are having trouble coming up with one, just bring it up with us and we can help!"
   ]
  },
  {
   "cell_type": "code",
   "execution_count": null,
   "metadata": {},
   "outputs": [],
   "source": []
  }
 ],
 "metadata": {
  "kernelspec": {
   "display_name": "base",
   "language": "python",
   "name": "python3"
  },
  "language_info": {
   "codemirror_mode": {
    "name": "ipython",
    "version": 3
   },
   "file_extension": ".py",
   "mimetype": "text/x-python",
   "name": "python",
   "nbconvert_exporter": "python",
   "pygments_lexer": "ipython3",
   "version": "3.8.13 (default, Mar 28 2022, 06:16:26) \n[Clang 12.0.0 ]"
  },
  "vscode": {
   "interpreter": {
    "hash": "40d3a090f54c6569ab1632332b64b2c03c39dcf918b08424e98f38b5ae0af88f"
   }
  }
 },
 "nbformat": 4,
 "nbformat_minor": 4
}
