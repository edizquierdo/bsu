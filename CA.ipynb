{
 "cells": [
  {
   "attachments": {},
   "cell_type": "markdown",
   "metadata": {},
   "source": [
    "# Elementary Cellular Automata "
   ]
  },
  {
   "attachments": {},
   "cell_type": "markdown",
   "metadata": {},
   "source": [
    "An elementary cellular automaton is a one-dimensional cellular automaton where there are two possible states (labeled 0 and 1) and the rule to determine the state of a cell in the next generation depends only on the current state of the cell and its two immediate neighbors.\n",
    "\n",
    "There is an elementary cellular automaton (Rule 110 has the perhaps surprising property that it is Turing complete) which is capable of universal computation, and as such it is one of the simplest possible models of computation.\n",
    "\n",
    "The class below is one implementation of the basics of this simulation. (You are welcome to use mine, but you are also welcome to change it, or indeed make your own)."
   ]
  },
  {
   "cell_type": "code",
   "execution_count": null,
   "metadata": {},
   "outputs": [],
   "source": [
    "import numpy as np\n",
    "\n",
    "class CA():\n",
    "    \n",
    "    def __init__(self,size,ruleset):\n",
    "        self.size = size\n",
    "        self.state = np.zeros(size)\n",
    "        self.ruleset = ruleset      \n",
    "\n",
    "    def rule(self,a,b,c):\n",
    "        rulenumber = a*(2**2) + b*(2**1) + c*(2**0)\n",
    "        return(self.ruleset[int(rulenumber)])\n",
    "    \n",
    "    def update(self):\n",
    "        newstate = np.zeros(self.size)\n",
    "        for i in range(self.size):\n",
    "            newstate[i] = self.rule(self.state[(i-1)%self.size],self.state[i],self.state[(i+1)%self.size])\n",
    "        self.state = newstate"
   ]
  },
  {
   "cell_type": "code",
   "execution_count": null,
   "metadata": {},
   "outputs": [],
   "source": [
    "import matplotlib.pyplot as plt\n",
    "\n",
    "size = 400\n",
    "a = CA(size, [0,1,1,0,1,0,0,1])\n",
    "#a = CA(size, [0,1,0,1,1,0,1,0]) #90\n",
    "#a = CA(size, [0,1,1,1,1,0,0,0]) #30\n",
    "time = int(size/2)\n",
    "history = np.zeros((time,size))\n",
    "a.state = np.random.randint(2,size=size)\n",
    "a.state[time] = 1\n",
    "\n",
    "for t in range(time):\n",
    "    history[t] = a.state\n",
    "    a.update()\n",
    "\n",
    "plt.matshow(history,cmap='binary')\n",
    "plt.show()"
   ]
  }
 ],
 "metadata": {
  "kernelspec": {
   "display_name": "base",
   "language": "python",
   "name": "python3"
  },
  "language_info": {
   "codemirror_mode": {
    "name": "ipython",
    "version": 3
   },
   "file_extension": ".py",
   "mimetype": "text/x-python",
   "name": "python",
   "nbconvert_exporter": "python",
   "pygments_lexer": "ipython3",
   "version": "3.8.13"
  },
  "vscode": {
   "interpreter": {
    "hash": "40d3a090f54c6569ab1632332b64b2c03c39dcf918b08424e98f38b5ae0af88f"
   }
  }
 },
 "nbformat": 4,
 "nbformat_minor": 4
}
